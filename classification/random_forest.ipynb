{
 "cells": [
  {
   "attachments": {},
   "cell_type": "markdown",
   "metadata": {},
   "source": [
    "# Random Forest Classification\n",
    "\n",
    "The final classification algorithm that will be tried. ***NOTE***: Naive Bayes is not tried since the data analysis showed that the interesting features are not independent of each other."
   ]
  },
  {
   "attachments": {},
   "cell_type": "markdown",
   "metadata": {},
   "source": [
    "## Setup"
   ]
  },
  {
   "cell_type": "code",
   "execution_count": 1,
   "metadata": {},
   "outputs": [],
   "source": [
    "import pandas as pd\n",
    "from sklearn import tree"
   ]
  },
  {
   "cell_type": "code",
   "execution_count": 2,
   "metadata": {},
   "outputs": [
    {
     "name": "stderr",
     "output_type": "stream",
     "text": [
      "/Users/tobiaswilfert/Documents/University/DM/data-mining-assignments/venv/lib/python3.10/site-packages/openpyxl/styles/stylesheet.py:226: UserWarning: Workbook contains no default style, apply openpyxl's default\n",
      "  warn(\"Workbook contains no default style, apply openpyxl's default\")\n",
      "/Users/tobiaswilfert/Documents/University/DM/data-mining-assignments/venv/lib/python3.10/site-packages/openpyxl/styles/stylesheet.py:226: UserWarning: Workbook contains no default style, apply openpyxl's default\n",
      "  warn(\"Workbook contains no default style, apply openpyxl's default\")\n"
     ]
    }
   ],
   "source": [
    "# Load the files\n",
    "existing_customers = pd.read_excel('data/existing-customers.xlsx')\n",
    "potential_customers = pd.read_excel('data/potential-customers.xlsx')\n",
    "\n",
    "# Define the score metric\n",
    "def ROI(precision, amount):\n",
    "    return amount * (88*precision - 25.5*(1-precision))"
   ]
  },
  {
   "attachments": {},
   "cell_type": "markdown",
   "metadata": {},
   "source": [
    "## Premise\n",
    "See if the data can be classified using a random forest classifier. We have an unbelievable result with Decision Trees so the questions is if the random forest can do better."
   ]
  },
  {
   "cell_type": "code",
   "execution_count": 3,
   "metadata": {},
   "outputs": [],
   "source": [
    "from sklearn.model_selection import train_test_split\n",
    "\n",
    "def preprocessing_and_feature_selection(\n",
    "    train_ratio = 0.70,\n",
    "    validation_ratio = 0.15,\n",
    "    test_ratio = 0.15,\n",
    "):\n",
    "    # Do the feature selection\n",
    "    data_x = existing_customers[[\"age\", \"education\", \"education-num\", \"marital-status\", \"relationship\", \"race\", \"sex\", \"capital-gain\", \"capital-loss\", \"hours-per-week\"]]\n",
    "    data_y = existing_customers[[\"class\"]]\n",
    "\n",
    "    # Deal with the NaN entries\n",
    "    # - By ignoring the variables that contain the Nan entries.\n",
    "\n",
    "    # Do the conversion from categorical to nominal\n",
    "    data_x = pd.get_dummies(data_x)\n",
    "    data_y = pd.get_dummies(data_y, drop_first=True) \n",
    "\n",
    "    # Split the data into test, training and validation\n",
    "    x_train, x_test, y_train, y_test = train_test_split(data_x, data_y, test_size=1 - train_ratio)\n",
    "    x_val, x_test, y_val, y_test = train_test_split(x_test, y_test, test_size=test_ratio/(test_ratio + validation_ratio)) \n",
    "\n",
    "    return x_train, x_val, x_test, y_train, y_val, y_test\n",
    "\n",
    "x_train, x_val, x_test, y_train, y_val, y_test = preprocessing_and_feature_selection()"
   ]
  },
  {
   "cell_type": "code",
   "execution_count": 12,
   "metadata": {},
   "outputs": [
    {
     "name": "stdout",
     "output_type": "stream",
     "text": [
      "Recall= 0.0\tAmount= 0\tROI= -0.0\n",
      "Recall= 0.08583690987124463\tAmount= 101\tROI= -1591.5085836909873\n",
      "Recall= 0.2369098712446352\tAmount= 283\tROI= 393.16351931330473\n",
      "Recall= 0.4918454935622318\tAmount= 714\tROI= 21651.666952789703\n",
      "Recall= 0.5339055793991416\tAmount= 791\tROI= 27762.742060085835\n",
      "Recall= 0.5579399141630901\tAmount= 841\tROI= 31811.817596566518\n",
      "Recall= 0.5613733905579399\tAmount= 827\tROI= 31604.53261802575\n",
      "Recall= 0.5708154506437768\tAmount= 849\tROI= 33355.1330472103\n",
      "Recall= 0.5708154506437768\tAmount= 842\tROI= 33080.120171673814\n",
      "Recall= 0.5768240343347639\tAmount= 853\tROI= 34094.00729613734\n",
      "Recall= 0.5793991416309013\tAmount= 856\tROI= 34464.10300429184\n",
      "Recall= 0.5811158798283261\tAmount= 860\tROI= 34792.72103004292\n",
      "Recall= 0.5879828326180258\tAmount= 870\tROI= 35875.36480686696\n",
      "Recall= 0.5914163090128756\tAmount= 876\tROI= 36464.15793991416\n",
      "Recall= 0.6103004291845494\tAmount= 928\tROI= 40617.72360515022\n",
      "Recall= 0.6145922746781116\tAmount= 938\tROI= 41512.337339055804\n",
      "Recall= 0.6197424892703862\tAmount= 960\tROI= 43047.141630901286\n",
      "Recall= 0.6188841201716738\tAmount= 958\tROI= 42864.12703862661\n",
      "Recall= 0.6266094420600858\tAmount= 986\tROI= 44981.489270386264\n",
      "Recall= 0.6266094420600858\tAmount= 992\tROI= 45255.210300429186\n",
      "Recall= 0.6377682403433477\tAmount= 1019\tROI= 47777.54248927039\n",
      "Recall= 0.6317596566523606\tAmount= 1026\tROI= 47406.043776824044\n",
      "Recall= 0.6437768240343348\tAmount= 1054\tROI= 50137.377682403436\n",
      "Recall= 0.6291845493562231\tAmount= 1046\tROI= 48024.41888412016\n",
      "Recall= 0.6343347639484979\tAmount= 1046\tROI= 48635.85751072961\n",
      "Recall= 0.6283261802575107\tAmount= 1058\tROI= 48472.29270386266\n",
      "Recall= 0.6248927038626609\tAmount= 1049\tROI= 47651.1626609442\n",
      "Recall= 0.6257510729613734\tAmount= 1064\tROI= 48436.2025751073\n",
      "Recall= 0.6317596566523606\tAmount= 1079\tROI= 49854.89399141632\n",
      "Recall= 0.6291845493562231\tAmount= 1070\tROI= 49126.317596566514\n",
      "Recall= 0.6223175965665236\tAmount= 1068\tROI= 48202.094420600864\n",
      "Recall= 0.6274678111587982\tAmount= 1072\tROI= 49009.263519313296\n",
      "Recall= 0.6283261802575107\tAmount= 1070\tROI= 49022.072961373386\n",
      "Recall= 0.6223175965665236\tAmount= 1065\tROI= 48066.69527896996\n",
      "Recall= 0.6214592274678111\tAmount= 1058\tROI= 47647.68841201716\n",
      "Recall= 0.6317596566523606\tAmount= 1081\tROI= 49947.3034334764\n",
      "Recall= 0.6188841201716738\tAmount= 1057\tROI= 47293.718454935624\n",
      "Recall= 0.6266094420600858\tAmount= 1080\tROI= 49269.78540772532\n",
      "Recall= 0.6223175965665236\tAmount= 1062\tROI= 47931.29613733906\n"
     ]
    }
   ],
   "source": [
    "# Train the model\n",
    "from sklearn.ensemble import RandomForestClassifier\n",
    "from sklearn.metrics import precision_score\n",
    "\n",
    "# Try different max_depth and keep the best model\n",
    "best_roi = 0\n",
    "model = None\n",
    "\n",
    "for depth in range(1,40):\n",
    "    # Train the model\n",
    "    model = RandomForestClassifier(n_estimators=100, max_depth=depth)\n",
    "    model.fit(x_train, y_train.values.ravel())\n",
    "\n",
    "    # Validate the model\n",
    "    y_pred = model.predict(x_val)\n",
    "    precision = precision_score(y_val, y_pred)\n",
    "    roi = ROI(precision,  y_pred.sum())\n",
    "    print(f\"Recall= {precision}\\tAmount= {y_pred.sum()}\\tROI= {roi}\")\n",
    "\n",
    "    if roi > best_roi:\n",
    "        best_roi = roi\n",
    "        best_model = model\n"
   ]
  },
  {
   "cell_type": "code",
   "execution_count": 13,
   "metadata": {},
   "outputs": [
    {
     "name": "stdout",
     "output_type": "stream",
     "text": [
      "Recall= 0.6367414796342478\tAmount= 1082\tROI= 50605.31088944306\n"
     ]
    }
   ],
   "source": [
    "# Test the best model\n",
    "y_pred = best_model.predict(x_test)\n",
    "precision = precision_score(y_test, y_pred)\n",
    "roi = ROI(precision,  y_pred.sum())\n",
    "print(f\"Recall= {precision}\\tAmount= {y_pred.sum()}\\tROI= {roi}\")"
   ]
  },
  {
   "cell_type": "code",
   "execution_count": 14,
   "metadata": {},
   "outputs": [
    {
     "data": {
      "text/plain": [
       "<bound method BaseEstimator.get_params of RandomForestClassifier(max_depth=23)>"
      ]
     },
     "execution_count": 14,
     "metadata": {},
     "output_type": "execute_result"
    }
   ],
   "source": [
    "best_model.get_params"
   ]
  },
  {
   "cell_type": "code",
   "execution_count": 15,
   "metadata": {},
   "outputs": [
    {
     "name": "stdout",
     "output_type": "stream",
     "text": [
      "Recall= 0.6367414796342478\tAmount= 3342\tROI=156305.86783042396\n"
     ]
    }
   ],
   "source": [
    "deploy_x = potential_customers[[\"age\", \"education\", \"education-num\", \"marital-status\", \"relationship\", \"race\", \"sex\", \"capital-gain\", \"capital-loss\", \"hours-per-week\"]]\n",
    "deploy_x = pd.get_dummies(deploy_x)\n",
    "\n",
    "y_pred = best_model.predict(deploy_x)\n",
    "amount = y_pred.sum()\n",
    "\n",
    "print(f\"Recall= {precision}\\tAmount= {y_pred.sum()}\\tROI={ROI(precision,  y_pred.sum())}\")"
   ]
  },
  {
   "attachments": {},
   "cell_type": "markdown",
   "metadata": {},
   "source": [
    "### Conclusion\n",
    "This does not score better than the Decision tree."
   ]
  }
 ],
 "metadata": {
  "kernelspec": {
   "display_name": "venv",
   "language": "python",
   "name": "python3"
  },
  "language_info": {
   "codemirror_mode": {
    "name": "ipython",
    "version": 3
   },
   "file_extension": ".py",
   "mimetype": "text/x-python",
   "name": "python",
   "nbconvert_exporter": "python",
   "pygments_lexer": "ipython3",
   "version": "3.10.9"
  },
  "orig_nbformat": 4
 },
 "nbformat": 4,
 "nbformat_minor": 2
}
